{
 "cells": [
  {
   "cell_type": "code",
   "execution_count": 4,
   "id": "2dedfce9-2acd-45cc-9366-abf961e8325d",
   "metadata": {},
   "outputs": [],
   "source": [
    "import os\n",
    "\n",
    "from langchain_openai import ChatOpenAI\n",
    "\n",
    "from langchain_community.tools.tavily_search import TavilySearchResults\n",
    "\n",
    "from langchain_core.messages import HumanMessage\n",
    "\n",
    "from langgraph.checkpoint.memory import MemorySaver\n",
    "\n",
    "from langgraph.prebuilt import create_react_agent"
   ]
  },
  {
   "cell_type": "code",
   "execution_count": null,
   "id": "e137a265-a5ca-4f39-a295-a58bf7703d10",
   "metadata": {},
   "outputs": [],
   "source": [
    "os.environ['OPENAI_API_KEY'] = ''\n",
    "os.environ['LANGCHAIN_API_KEY'] = ''\n",
    "os.environ['LANGCHAIN_TRACING_V2'] = 'true'\n",
    "os.environ[\"TAVILY_API_KEY\"] = ''"
   ]
  },
  {
   "cell_type": "code",
   "execution_count": 6,
   "id": "4f230af2-2df9-4638-b20b-da765764b6c2",
   "metadata": {},
   "outputs": [],
   "source": [
    "search = TavilySearchResults(max_results=2)"
   ]
  },
  {
   "cell_type": "code",
   "execution_count": 15,
   "id": "f505c73e-32a5-494b-b2a3-dbb4e13279f8",
   "metadata": {},
   "outputs": [],
   "source": [
    "search_results = search.invoke(\"Which country won the Euro 2024?\")"
   ]
  },
  {
   "cell_type": "code",
   "execution_count": 16,
   "id": "e0351517-0e5b-48f8-9a63-e8372114bf04",
   "metadata": {},
   "outputs": [
    {
     "data": {
      "text/plain": [
       "[{'url': 'https://www.cnn.com/2024/07/14/sport/spain-england-euro-2024-final-spt-intl/index.html',\n",
       "  'content': \"Spain won a record-breaking fourth European Championship, defeating England 2-1 following a drama-filled second half in the Euro 2024 final on Sunday in Berlin.. Nico Williams - one of Spain's ...\"},\n",
       " {'url': 'https://www.bbc.com/sport/football/articles/cv2gvreml2ko',\n",
       "  'content': \"Football often divides opinion - but everyone was united to hail Spain's Euro 2024 success as fully deserved. La Roja won all seven games without needing penalties, a record at a European ...\"}]"
      ]
     },
     "execution_count": 16,
     "metadata": {},
     "output_type": "execute_result"
    }
   ],
   "source": [
    "search_results"
   ]
  },
  {
   "cell_type": "code",
   "execution_count": 17,
   "id": "03e57799-5b27-4235-85af-fe2818149c01",
   "metadata": {},
   "outputs": [],
   "source": [
    "tools = [search]"
   ]
  },
  {
   "cell_type": "code",
   "execution_count": null,
   "id": "5a810c43-4de7-43a9-b002-37f4dafcc03a",
   "metadata": {},
   "outputs": [],
   "source": []
  },
  {
   "cell_type": "code",
   "execution_count": 19,
   "id": "82a8deab-ee20-4975-a34a-719494b7157a",
   "metadata": {},
   "outputs": [],
   "source": [
    "model = ChatOpenAI(model=\"gpt-4o-mini\")"
   ]
  },
  {
   "cell_type": "code",
   "execution_count": 20,
   "id": "4acb0241-b6bf-4424-8288-6ba34c3b5b39",
   "metadata": {},
   "outputs": [],
   "source": [
    "model_with_tools = model.bind_tools(tools)"
   ]
  },
  {
   "cell_type": "code",
   "execution_count": 21,
   "id": "a8c98127-161c-4e10-851e-0652e87cf29d",
   "metadata": {},
   "outputs": [
    {
     "name": "stdout",
     "output_type": "stream",
     "text": [
      "ContentString: Hello! How can I assist you today?\n",
      "ToolCalls: []\n"
     ]
    }
   ],
   "source": [
    "response = model_with_tools.invoke([HumanMessage(content=\"Hi!\")])\n",
    "\n",
    "print(f\"ContentString: {response.content}\")\n",
    "print(f\"ToolCalls: {response.tool_calls}\")"
   ]
  },
  {
   "cell_type": "code",
   "execution_count": 31,
   "id": "04eabc8a-da68-4cf2-80d2-6b50d75ef67d",
   "metadata": {},
   "outputs": [
    {
     "data": {
      "text/plain": [
       "{'content': 'Hello! How can I assist you today?',\n",
       " 'additional_kwargs': {'refusal': None},\n",
       " 'response_metadata': {'token_usage': {'completion_tokens': 10,\n",
       "   'prompt_tokens': 81,\n",
       "   'total_tokens': 91},\n",
       "  'model_name': 'gpt-4o-mini-2024-07-18',\n",
       "  'system_fingerprint': 'fp_f33667828e',\n",
       "  'finish_reason': 'stop',\n",
       "  'logprobs': None},\n",
       " 'type': 'ai',\n",
       " 'name': None,\n",
       " 'id': 'run-f7028967-453a-49dc-9f1a-029d0474a88a-0',\n",
       " 'example': False,\n",
       " 'tool_calls': [],\n",
       " 'invalid_tool_calls': [],\n",
       " 'usage_metadata': {'input_tokens': 81,\n",
       "  'output_tokens': 10,\n",
       "  'total_tokens': 91}}"
      ]
     },
     "execution_count": 31,
     "metadata": {},
     "output_type": "execute_result"
    }
   ],
   "source": [
    "response.dict()"
   ]
  },
  {
   "cell_type": "code",
   "execution_count": 32,
   "id": "16ad1fc8-229f-4dda-875f-f8c8abd18d8f",
   "metadata": {},
   "outputs": [
    {
     "name": "stdout",
     "output_type": "stream",
     "text": [
      "ContentString: \n",
      "ToolCalls: [{'name': 'tavily_search_results_json', 'args': {'query': 'current weather in Tokyo'}, 'id': 'call_c4z7cShpPkfTmykBrUAh6GZ4', 'type': 'tool_call'}]\n"
     ]
    }
   ],
   "source": [
    "response = model_with_tools.invoke([HumanMessage(content=\"What's the weather in Tokyo?\")])\n",
    "\n",
    "print(f\"ContentString: {response.content}\")\n",
    "print(f\"ToolCalls: {response.tool_calls}\")"
   ]
  },
  {
   "cell_type": "code",
   "execution_count": 33,
   "id": "7067dac1-7c4a-4625-8183-83f124896ab4",
   "metadata": {},
   "outputs": [
    {
     "data": {
      "text/plain": [
       "{'content': '',\n",
       " 'additional_kwargs': {'tool_calls': [{'id': 'call_c4z7cShpPkfTmykBrUAh6GZ4',\n",
       "    'function': {'arguments': '{\"query\":\"current weather in Tokyo\"}',\n",
       "     'name': 'tavily_search_results_json'},\n",
       "    'type': 'function'}],\n",
       "  'refusal': None},\n",
       " 'response_metadata': {'token_usage': {'completion_tokens': 21,\n",
       "   'prompt_tokens': 85,\n",
       "   'total_tokens': 106},\n",
       "  'model_name': 'gpt-4o-mini-2024-07-18',\n",
       "  'system_fingerprint': 'fp_9722793223',\n",
       "  'finish_reason': 'tool_calls',\n",
       "  'logprobs': None},\n",
       " 'type': 'ai',\n",
       " 'name': None,\n",
       " 'id': 'run-8b96e22a-ea41-4acb-84c4-0b0361857afe-0',\n",
       " 'example': False,\n",
       " 'tool_calls': [{'name': 'tavily_search_results_json',\n",
       "   'args': {'query': 'current weather in Tokyo'},\n",
       "   'id': 'call_c4z7cShpPkfTmykBrUAh6GZ4',\n",
       "   'type': 'tool_call'}],\n",
       " 'invalid_tool_calls': [],\n",
       " 'usage_metadata': {'input_tokens': 85,\n",
       "  'output_tokens': 21,\n",
       "  'total_tokens': 106}}"
      ]
     },
     "execution_count": 33,
     "metadata": {},
     "output_type": "execute_result"
    }
   ],
   "source": [
    "response.dict()"
   ]
  },
  {
   "cell_type": "code",
   "execution_count": 34,
   "id": "64c117fe-3b9c-4cc2-a2c4-ea5ee139fd55",
   "metadata": {},
   "outputs": [],
   "source": [
    "agent_executor = create_react_agent(model, tools)"
   ]
  },
  {
   "cell_type": "code",
   "execution_count": 35,
   "id": "52d4bb1d-6788-4d3f-b175-17ed0372665d",
   "metadata": {},
   "outputs": [],
   "source": [
    "response = agent_executor.invoke({\"messages\": [HumanMessage(content=\"hi!\")]})"
   ]
  },
  {
   "cell_type": "code",
   "execution_count": 38,
   "id": "77db2b6f-526a-405a-9604-64e0739b3b7e",
   "metadata": {},
   "outputs": [
    {
     "data": {
      "text/plain": [
       "{'content': 'Hello! How can I assist you today?',\n",
       " 'additional_kwargs': {'refusal': None},\n",
       " 'response_metadata': {'token_usage': {'completion_tokens': 10,\n",
       "   'prompt_tokens': 81,\n",
       "   'total_tokens': 91},\n",
       "  'model_name': 'gpt-4o-mini-2024-07-18',\n",
       "  'system_fingerprint': 'fp_f33667828e',\n",
       "  'finish_reason': 'stop',\n",
       "  'logprobs': None},\n",
       " 'type': 'ai',\n",
       " 'name': None,\n",
       " 'id': 'run-a08f4ed5-8d2e-40f0-bfff-e461456794de-0',\n",
       " 'example': False,\n",
       " 'tool_calls': [],\n",
       " 'invalid_tool_calls': [],\n",
       " 'usage_metadata': {'input_tokens': 81,\n",
       "  'output_tokens': 10,\n",
       "  'total_tokens': 91}}"
      ]
     },
     "execution_count": 38,
     "metadata": {},
     "output_type": "execute_result"
    }
   ],
   "source": [
    "response['messages'][1].dict()"
   ]
  },
  {
   "cell_type": "code",
   "execution_count": null,
   "id": "66e224a1-33ef-4324-8bc6-e8551b833591",
   "metadata": {},
   "outputs": [],
   "source": []
  },
  {
   "cell_type": "code",
   "execution_count": 39,
   "id": "04368736-6364-4609-9339-d53c20479069",
   "metadata": {},
   "outputs": [],
   "source": [
    "response = agent_executor.invoke(\n",
    "    {\"messages\": [HumanMessage(content=\"whats the weather in Tokyo?\")]}\n",
    ")"
   ]
  },
  {
   "cell_type": "code",
   "execution_count": 42,
   "id": "84bc0d9c-88d4-4155-832a-c9af23fabdb1",
   "metadata": {},
   "outputs": [
    {
     "name": "stdout",
     "output_type": "stream",
     "text": [
      "- whats the weather in Tokyo?\n",
      "- \n",
      "- [{\"url\": \"https://www.weatherapi.com/\", \"content\": \"{'location': {'name': 'Tokyo', 'region': 'Tokyo', 'country': 'Japan', 'lat': 35.69, 'lon': 139.69, 'tz_id': 'Asia/Tokyo', 'localtime_epoch': 1724993389, 'localtime': '2024-08-30 13:49'}, 'current': {'last_updated_epoch': 1724993100, 'last_updated': '2024-08-30 13:45', 'temp_c': 26.0, 'temp_f': 78.8, 'is_day': 1, 'condition': {'text': 'Light rain', 'icon': '//cdn.weatherapi.com/weather/64x64/day/296.png', 'code': 1183}, 'wind_mph': 11.9, 'wind_kph': 19.1, 'wind_degree': 170, 'wind_dir': 'S', 'pressure_mb': 1007.0, 'pressure_in': 29.74, 'precip_mm': 2.47, 'precip_in': 0.1, 'humidity': 100, 'cloud': 75, 'feelslike_c': 29.3, 'feelslike_f': 84.7, 'windchill_c': 26.6, 'windchill_f': 79.9, 'heatindex_c': 30.4, 'heatindex_f': 86.7, 'dewpoint_c': 24.4, 'dewpoint_f': 75.8, 'vis_km': 6.0, 'vis_miles': 3.0, 'uv': 6.0, 'gust_mph': 25.7, 'gust_kph': 41.3}}\"}, {\"url\": \"https://www.meteoprog.com/weather/Tokyo/month/august/\", \"content\": \"Tokyo (Japan) weather in August 2024 \\u2600\\ufe0f Accurate weather forecast for Tokyo in August \\u26c5 Detailed forecast By month Current temperature \\\"near me\\\" Weather news \\u22b3 Widget of weather \\u22b3 Water temperature | METEOPROG\"}]\n",
      "- The current weather in Tokyo is as follows:\n",
      "\n",
      "- **Temperature:** 26.0°C (78.8°F)\n",
      "- **Condition:** Light rain\n",
      "- **Humidity:** 100%\n",
      "- **Wind:** 19.1 kph (11.9 mph) from the south\n",
      "- **Feels Like:** 29.3°C (84.7°F)\n",
      "- **Visibility:** 6.0 km\n",
      "\n",
      "For more detailed and updated information, you can check [WeatherAPI](https://www.weatherapi.com/) or [Meteoprog](https://www.meteoprog.com/weather/Tokyo/month/august/).\n"
     ]
    }
   ],
   "source": [
    "for msg in response['messages']:\n",
    "    print(f'- {msg.content}')"
   ]
  },
  {
   "cell_type": "code",
   "execution_count": null,
   "id": "cd00dc71-77e4-4a61-8b5a-8829b49f278d",
   "metadata": {},
   "outputs": [],
   "source": []
  },
  {
   "cell_type": "code",
   "execution_count": 43,
   "id": "853d4b70-31fe-42bf-8e88-92ed00b8ad2c",
   "metadata": {},
   "outputs": [
    {
     "name": "stdout",
     "output_type": "stream",
     "text": [
      "{'agent': {'messages': [AIMessage(content='', additional_kwargs={'tool_calls': [{'id': 'call_1w830HAIZwM4K2ZHLkFZuAw6', 'function': {'arguments': '{\"query\":\"current weather in Tokyo\"}', 'name': 'tavily_search_results_json'}, 'type': 'function'}], 'refusal': None}, response_metadata={'token_usage': {'completion_tokens': 21, 'prompt_tokens': 86, 'total_tokens': 107}, 'model_name': 'gpt-4o-mini-2024-07-18', 'system_fingerprint': 'fp_5bd87c427a', 'finish_reason': 'tool_calls', 'logprobs': None}, id='run-f34d3802-6131-4793-9cfe-1ff1ea0b5424-0', tool_calls=[{'name': 'tavily_search_results_json', 'args': {'query': 'current weather in Tokyo'}, 'id': 'call_1w830HAIZwM4K2ZHLkFZuAw6', 'type': 'tool_call'}], usage_metadata={'input_tokens': 86, 'output_tokens': 21, 'total_tokens': 107})]}}\n",
      "----\n",
      "{'tools': {'messages': [ToolMessage(content='[{\"url\": \"https://www.weatherapi.com/\", \"content\": \"{\\'location\\': {\\'name\\': \\'Tokyo\\', \\'region\\': \\'Tokyo\\', \\'country\\': \\'Japan\\', \\'lat\\': 35.69, \\'lon\\': 139.69, \\'tz_id\\': \\'Asia/Tokyo\\', \\'localtime_epoch\\': 1724993597, \\'localtime\\': \\'2024-08-30 13:53\\'}, \\'current\\': {\\'last_updated_epoch\\': 1724993100, \\'last_updated\\': \\'2024-08-30 13:45\\', \\'temp_c\\': 26.0, \\'temp_f\\': 78.8, \\'is_day\\': 1, \\'condition\\': {\\'text\\': \\'Light rain\\', \\'icon\\': \\'//cdn.weatherapi.com/weather/64x64/day/296.png\\', \\'code\\': 1183}, \\'wind_mph\\': 11.9, \\'wind_kph\\': 19.1, \\'wind_degree\\': 170, \\'wind_dir\\': \\'S\\', \\'pressure_mb\\': 1007.0, \\'pressure_in\\': 29.74, \\'precip_mm\\': 2.47, \\'precip_in\\': 0.1, \\'humidity\\': 100, \\'cloud\\': 75, \\'feelslike_c\\': 29.3, \\'feelslike_f\\': 84.7, \\'windchill_c\\': 26.6, \\'windchill_f\\': 79.9, \\'heatindex_c\\': 30.4, \\'heatindex_f\\': 86.7, \\'dewpoint_c\\': 24.4, \\'dewpoint_f\\': 75.8, \\'vis_km\\': 6.0, \\'vis_miles\\': 3.0, \\'uv\\': 6.0, \\'gust_mph\\': 25.7, \\'gust_kph\\': 41.3}}\"}, {\"url\": \"https://world-weather.info/forecast/japan/tokyo/august-2024/\", \"content\": \"Extended weather forecast in Tokyo. Hourly Week 10 days 14 days 30 days Year. Detailed \\\\u26a1 Tokyo Weather Forecast for August 2024 - day/night \\\\ud83c\\\\udf21\\\\ufe0f temperatures, precipitations - World-Weather.info.\"}]', name='tavily_search_results_json', tool_call_id='call_1w830HAIZwM4K2ZHLkFZuAw6', artifact={'query': 'current weather in Tokyo', 'follow_up_questions': None, 'answer': None, 'images': [], 'results': [{'title': 'Weather in Tokyo', 'url': 'https://www.weatherapi.com/', 'content': \"{'location': {'name': 'Tokyo', 'region': 'Tokyo', 'country': 'Japan', 'lat': 35.69, 'lon': 139.69, 'tz_id': 'Asia/Tokyo', 'localtime_epoch': 1724993597, 'localtime': '2024-08-30 13:53'}, 'current': {'last_updated_epoch': 1724993100, 'last_updated': '2024-08-30 13:45', 'temp_c': 26.0, 'temp_f': 78.8, 'is_day': 1, 'condition': {'text': 'Light rain', 'icon': '//cdn.weatherapi.com/weather/64x64/day/296.png', 'code': 1183}, 'wind_mph': 11.9, 'wind_kph': 19.1, 'wind_degree': 170, 'wind_dir': 'S', 'pressure_mb': 1007.0, 'pressure_in': 29.74, 'precip_mm': 2.47, 'precip_in': 0.1, 'humidity': 100, 'cloud': 75, 'feelslike_c': 29.3, 'feelslike_f': 84.7, 'windchill_c': 26.6, 'windchill_f': 79.9, 'heatindex_c': 30.4, 'heatindex_f': 86.7, 'dewpoint_c': 24.4, 'dewpoint_f': 75.8, 'vis_km': 6.0, 'vis_miles': 3.0, 'uv': 6.0, 'gust_mph': 25.7, 'gust_kph': 41.3}}\", 'score': 0.952625, 'raw_content': None}, {'title': 'Weather in Tokyo in August 2024', 'url': 'https://world-weather.info/forecast/japan/tokyo/august-2024/', 'content': 'Extended weather forecast in Tokyo. Hourly Week 10 days 14 days 30 days Year. Detailed ⚡ Tokyo Weather Forecast for August 2024 - day/night 🌡️ temperatures, precipitations - World-Weather.info.', 'score': 0.9312127, 'raw_content': None}], 'response_time': 3.37})]}}\n",
      "----\n",
      "{'agent': {'messages': [AIMessage(content='The current weather in Tokyo is as follows:\\n\\n- **Temperature**: 26.0°C (78.8°F)\\n- **Condition**: Light rain\\n- **Wind**: 11.9 mph (19.1 kph) from the south\\n- **Humidity**: 100%\\n- **Pressure**: 1007.0 mb\\n- **Feels Like**: 29.3°C (84.7°F)\\n- **Visibility**: 6.0 km\\n\\nFor more details, you can visit [Weather API](https://www.weatherapi.com/).', additional_kwargs={'refusal': None}, response_metadata={'token_usage': {'completion_tokens': 122, 'prompt_tokens': 604, 'total_tokens': 726}, 'model_name': 'gpt-4o-mini-2024-07-18', 'system_fingerprint': 'fp_f33667828e', 'finish_reason': 'stop', 'logprobs': None}, id='run-99506979-9273-46a2-93da-abd74bc95aa2-0', usage_metadata={'input_tokens': 604, 'output_tokens': 122, 'total_tokens': 726})]}}\n",
      "----\n"
     ]
    }
   ],
   "source": [
    "for chunk in agent_executor.stream(\n",
    "    {\"messages\": [HumanMessage(content=\"whats the weather in Tokyo?\")]}\n",
    "):\n",
    "    print(chunk)\n",
    "    print(\"----\")"
   ]
  },
  {
   "cell_type": "code",
   "execution_count": 44,
   "id": "e24f8683-4257-4810-88c9-163b366b4fc2",
   "metadata": {},
   "outputs": [
    {
     "name": "stderr",
     "output_type": "stream",
     "text": [
      "/tmp/ipykernel_30638/2392252406.py:1: LangChainBetaWarning: This API is in beta and may change in the future.\n",
      "  async for event in agent_executor.astream_events(\n"
     ]
    },
    {
     "name": "stdout",
     "output_type": "stream",
     "text": [
      "--\n",
      "Starting tool: tavily_search_results_json with inputs: {'query': 'current weather in Tokyo'}\n",
      "Done tool: tavily_search_results_json\n",
      "Tool output was: content='[{\"url\": \"https://www.weatherapi.com/\", \"content\": \"{\\'location\\': {\\'name\\': \\'Tokyo\\', \\'region\\': \\'Tokyo\\', \\'country\\': \\'Japan\\', \\'lat\\': 35.69, \\'lon\\': 139.69, \\'tz_id\\': \\'Asia/Tokyo\\', \\'localtime_epoch\\': 1724993597, \\'localtime\\': \\'2024-08-30 13:53\\'}, \\'current\\': {\\'last_updated_epoch\\': 1724993100, \\'last_updated\\': \\'2024-08-30 13:45\\', \\'temp_c\\': 26.0, \\'temp_f\\': 78.8, \\'is_day\\': 1, \\'condition\\': {\\'text\\': \\'Light rain\\', \\'icon\\': \\'//cdn.weatherapi.com/weather/64x64/day/296.png\\', \\'code\\': 1183}, \\'wind_mph\\': 11.9, \\'wind_kph\\': 19.1, \\'wind_degree\\': 170, \\'wind_dir\\': \\'S\\', \\'pressure_mb\\': 1007.0, \\'pressure_in\\': 29.74, \\'precip_mm\\': 2.47, \\'precip_in\\': 0.1, \\'humidity\\': 100, \\'cloud\\': 75, \\'feelslike_c\\': 29.3, \\'feelslike_f\\': 84.7, \\'windchill_c\\': 26.6, \\'windchill_f\\': 79.9, \\'heatindex_c\\': 30.4, \\'heatindex_f\\': 86.7, \\'dewpoint_c\\': 24.4, \\'dewpoint_f\\': 75.8, \\'vis_km\\': 6.0, \\'vis_miles\\': 3.0, \\'uv\\': 6.0, \\'gust_mph\\': 25.7, \\'gust_kph\\': 41.3}}\"}, {\"url\": \"https://weatherspark.com/h/m/143809/2024/8/2024\\\\u5e748\\\\u6708\\\\u306e\\\\u6771\\\\u4eac\\\\u90fd\\\\u3001\\\\u65e5\\\\u672c\\\\u306b\\\\u304a\\\\u3051\\\\u308b\\\\u6c17\\\\u5019\\\\u5c65\\\\u6b74\", \"content\": \"13.8 mph. This report shows the past weather for Tokyo, providing a weather history for August 2024. It features all historical weather data series we have available, including the Tokyo temperature history for August 2024. You can drill down from year to month and even day level reports by clicking on the graphs.\"}]' name='tavily_search_results_json' tool_call_id='call_nyYjBmXMdOQzfbdByhukJpvD' artifact={'query': 'current weather in Tokyo', 'follow_up_questions': None, 'answer': None, 'images': [], 'results': [{'title': 'Weather in Tokyo', 'url': 'https://www.weatherapi.com/', 'content': \"{'location': {'name': 'Tokyo', 'region': 'Tokyo', 'country': 'Japan', 'lat': 35.69, 'lon': 139.69, 'tz_id': 'Asia/Tokyo', 'localtime_epoch': 1724993597, 'localtime': '2024-08-30 13:53'}, 'current': {'last_updated_epoch': 1724993100, 'last_updated': '2024-08-30 13:45', 'temp_c': 26.0, 'temp_f': 78.8, 'is_day': 1, 'condition': {'text': 'Light rain', 'icon': '//cdn.weatherapi.com/weather/64x64/day/296.png', 'code': 1183}, 'wind_mph': 11.9, 'wind_kph': 19.1, 'wind_degree': 170, 'wind_dir': 'S', 'pressure_mb': 1007.0, 'pressure_in': 29.74, 'precip_mm': 2.47, 'precip_in': 0.1, 'humidity': 100, 'cloud': 75, 'feelslike_c': 29.3, 'feelslike_f': 84.7, 'windchill_c': 26.6, 'windchill_f': 79.9, 'heatindex_c': 30.4, 'heatindex_f': 86.7, 'dewpoint_c': 24.4, 'dewpoint_f': 75.8, 'vis_km': 6.0, 'vis_miles': 3.0, 'uv': 6.0, 'gust_mph': 25.7, 'gust_kph': 41.3}}\", 'score': 0.9335282, 'raw_content': None}, {'title': 'Tokyo August 2024 Historical Weather Data (Japan) - Weather Spark', 'url': 'https://weatherspark.com/h/m/143809/2024/8/2024年8月の東京都、日本における気候履歴', 'content': '13.8 mph. This report shows the past weather for Tokyo, providing a weather history for August 2024. It features all historical weather data series we have available, including the Tokyo temperature history for August 2024. You can drill down from year to month and even day level reports by clicking on the graphs.', 'score': 0.8758932, 'raw_content': None}], 'response_time': 3.05}\n",
      "--\n",
      "The| current| weather| in| Tokyo| is| as| follows|:\n",
      "\n",
      "|-| **|Temperature|**|:| |26|.|0|°C| (|78|.|8|°F|)\n",
      "|-| **|Condition|**|:| Light| rain|\n",
      "|-| **|Wind|**|:| |11|.|9| mph| (|19|.|1| k|ph|)| from| the| South|\n",
      "|-| **|Humidity|**|:| |100|%\n",
      "|-| **|Pressure|**|:| |100|7| mb|\n",
      "|-| **|Feels| Like|**|:| |29|.|3|°C| (|84|.|7|°F|)\n",
      "|-| **|Pre|cip|itation|**|:| |2|.|47| mm|\n",
      "\n",
      "|Overall|,| it| is| a| rainy| day| in| Tokyo| with| a| high| humidity| level|.| \n",
      "\n",
      "|For| more| details|,| you| can| check| [|Weather|API|](|https|://|www|.weather|api|.com|/|).|"
     ]
    }
   ],
   "source": [
    "async for event in agent_executor.astream_events(\n",
    "    {\"messages\": [HumanMessage(content=\"whats the weather in Tokyo?\")]}, version=\"v1\"\n",
    "):\n",
    "    kind = event[\"event\"]\n",
    "    if kind == \"on_chain_start\":\n",
    "        if (\n",
    "            event[\"name\"] == \"Agent\"\n",
    "        ):  # Was assigned when creating the agent with `.with_config({\"run_name\": \"Agent\"})`\n",
    "            print(\n",
    "                f\"Starting agent: {event['name']} with input: {event['data'].get('input')}\"\n",
    "            )\n",
    "    elif kind == \"on_chain_end\":\n",
    "        if (\n",
    "            event[\"name\"] == \"Agent\"\n",
    "        ):  # Was assigned when creating the agent with `.with_config({\"run_name\": \"Agent\"})`\n",
    "            print()\n",
    "            print(\"--\")\n",
    "            print(\n",
    "                f\"Done agent: {event['name']} with output: {event['data'].get('output')['output']}\"\n",
    "            )\n",
    "    if kind == \"on_chat_model_stream\":\n",
    "        content = event[\"data\"][\"chunk\"].content\n",
    "        if content:\n",
    "            # Empty content in the context of OpenAI means\n",
    "            # that the model is asking for a tool to be invoked.\n",
    "            # So we only print non-empty content\n",
    "            print(content, end=\"|\")\n",
    "    elif kind == \"on_tool_start\":\n",
    "        print(\"--\")\n",
    "        print(\n",
    "            f\"Starting tool: {event['name']} with inputs: {event['data'].get('input')}\"\n",
    "        )\n",
    "    elif kind == \"on_tool_end\":\n",
    "        print(f\"Done tool: {event['name']}\")\n",
    "        print(f\"Tool output was: {event['data'].get('output')}\")\n",
    "        print(\"--\")"
   ]
  },
  {
   "cell_type": "code",
   "execution_count": null,
   "id": "756316d0-ed41-40e0-86ed-1f04bcc9efe4",
   "metadata": {},
   "outputs": [],
   "source": []
  },
  {
   "cell_type": "code",
   "execution_count": 45,
   "id": "5c4d945e-10a4-4955-9190-76c57c1511a4",
   "metadata": {},
   "outputs": [],
   "source": [
    "memory = MemorySaver()"
   ]
  },
  {
   "cell_type": "code",
   "execution_count": 46,
   "id": "3154407d-fc8e-4d5a-b154-0ab2988059ec",
   "metadata": {},
   "outputs": [],
   "source": [
    "agent_executor = create_react_agent(model, tools, checkpointer=memory)\n",
    "\n",
    "config = {\"configurable\": {\"thread_id\": \"abc123\"}}"
   ]
  },
  {
   "cell_type": "code",
   "execution_count": 49,
   "id": "ac3edd17-fb31-4842-bd91-215559ae2663",
   "metadata": {},
   "outputs": [
    {
     "name": "stdout",
     "output_type": "stream",
     "text": [
      "{'agent': {'messages': [AIMessage(content='Hello again, Jose! How can I help you today?', additional_kwargs={'refusal': None}, response_metadata={'token_usage': {'completion_tokens': 13, 'prompt_tokens': 113, 'total_tokens': 126}, 'model_name': 'gpt-4o-mini-2024-07-18', 'system_fingerprint': 'fp_f33667828e', 'finish_reason': 'stop', 'logprobs': None}, id='run-032d0aec-1a41-4180-b888-68d64532724d-0', usage_metadata={'input_tokens': 113, 'output_tokens': 13, 'total_tokens': 126})]}}\n",
      "----\n"
     ]
    }
   ],
   "source": [
    "for chunk in agent_executor.stream(\n",
    "    {\"messages\": [HumanMessage(content=\"hi im Jose!\")]}, config\n",
    "):\n",
    "    print(chunk)\n",
    "    print(\"----\")"
   ]
  },
  {
   "cell_type": "code",
   "execution_count": 50,
   "id": "75b2650a-2643-4a0c-b4cf-ffad13aed5fd",
   "metadata": {},
   "outputs": [
    {
     "name": "stdout",
     "output_type": "stream",
     "text": [
      "{'agent': {'messages': [AIMessage(content='Your name is Jose!', additional_kwargs={'refusal': None}, response_metadata={'token_usage': {'completion_tokens': 6, 'prompt_tokens': 138, 'total_tokens': 144}, 'model_name': 'gpt-4o-mini-2024-07-18', 'system_fingerprint': 'fp_f33667828e', 'finish_reason': 'stop', 'logprobs': None}, id='run-6a2178c5-45a5-439e-84c9-81f00694ad09-0', usage_metadata={'input_tokens': 138, 'output_tokens': 6, 'total_tokens': 144})]}}\n",
      "----\n"
     ]
    }
   ],
   "source": [
    "for chunk in agent_executor.stream(\n",
    "    {\"messages\": [HumanMessage(content=\"whats my name?\")]}, config\n",
    "):\n",
    "    print(chunk)\n",
    "    print(\"----\")"
   ]
  }
 ],
 "metadata": {
  "kernelspec": {
   "display_name": "Python 3 (ipykernel)",
   "language": "python",
   "name": "python3"
  },
  "language_info": {
   "codemirror_mode": {
    "name": "ipython",
    "version": 3
   },
   "file_extension": ".py",
   "mimetype": "text/x-python",
   "name": "python",
   "nbconvert_exporter": "python",
   "pygments_lexer": "ipython3",
   "version": "3.12.1"
  }
 },
 "nbformat": 4,
 "nbformat_minor": 5
}
